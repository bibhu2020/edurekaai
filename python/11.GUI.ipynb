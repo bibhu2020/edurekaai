{
 "cells": [
  {
   "cell_type": "markdown",
   "id": "2251da39",
   "metadata": {},
   "source": [
    "#### GUI (using tkinter) - Does not work from ipynb or WSL\n",
    "widgets - button, text boxes, checkbox, etc...\n",
    "widgets sit inside an window.\n",
    "\n",
    "- import tkinter library\n",
    "- create a root/parent window\n",
    "- add widgets to the window\n",
    "- run event loop\n",
    "\n",
    "**tkinter is an inbuilt library in python"
   ]
  },
  {
   "cell_type": "raw",
   "id": "3374bca5",
   "metadata": {
    "vscode": {
     "languageId": "raw"
    }
   },
   "source": [
    "# first GUI\n",
    "from tkinter import Tk, Label, Button  # <-- You need this import\n",
    "\n",
    "root = Tk()\n",
    "root.title(\"My First GUI\")\n",
    "\n",
    "# create a label\n",
    "label = Label(root, text=\"Hello, World!\")\n",
    "label.pack()\n",
    "\n",
    "# create a button\n",
    "def on_button_click():\n",
    "    label.config(text=\"Button Clicked!\")\n",
    "\n",
    "button = Button(root, text=\"Click Me\", command=on_button_click)\n",
    "button.pack()\n",
    "\n",
    "# run the application\n",
    "root.mainloop()\n",
    "\n"
   ]
  },
  {
   "cell_type": "code",
   "execution_count": null,
   "id": "7f12e169",
   "metadata": {},
   "outputs": [],
   "source": []
  }
 ],
 "metadata": {
  "kernelspec": {
   "display_name": ".langchain",
   "language": "python",
   "name": "python3"
  },
  "language_info": {
   "codemirror_mode": {
    "name": "ipython",
    "version": 3
   },
   "file_extension": ".py",
   "mimetype": "text/x-python",
   "name": "python",
   "nbconvert_exporter": "python",
   "pygments_lexer": "ipython3",
   "version": "3.11.4"
  }
 },
 "nbformat": 4,
 "nbformat_minor": 5
}
