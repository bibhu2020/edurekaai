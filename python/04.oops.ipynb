{
 "cells": [
  {
   "cell_type": "code",
   "execution_count": null,
   "id": "61deaada",
   "metadata": {},
   "outputs": [
    {
     "name": "stdout",
     "output_type": "stream",
     "text": [
      "Constructor called: Employee Alice added.\n",
      "Constructor called: Employee Bob added.\n",
      "Name: Alice, Position: Manager\n",
      "Name: Bob, Position: Developer\n",
      "Total Employees: 2\n",
      "Destructor called: Employee Alice removed.\n",
      "Total Employees: 1\n"
     ]
    }
   ],
   "source": [
    "# A class demonstrating the use of constructors, destructors, and static variables in Python\n",
    "class Employee:\n",
    "    # Static (class) variable\n",
    "    employee_count = 0\n",
    "\n",
    "    def __init__(self, name, position):\n",
    "        # Constructor: called when an object is created\n",
    "        self.name = name\n",
    "        self.position = position\n",
    "        Employee.employee_count += 1\n",
    "        print(f\"Constructor called: Employee {self.name} added.\")\n",
    "\n",
    "    def __del__(self):\n",
    "        # Destructor: called when an object is deleted\n",
    "        print(f\"Destructor called: Employee {self.name} removed.\")\n",
    "        Employee.employee_count -= 1\n",
    "\n",
    "    def display_info(self):\n",
    "        print(f\"Name: {self.name}, Position: {self.position}\")\n",
    "\n",
    "    @staticmethod\n",
    "    def display_count():\n",
    "        print(f\"Total Employees: {Employee.employee_count}\")\n",
    "\n",
    "\n",
    "# Example usage\n",
    "if __name__ == \"__main__\":\n",
    "    emp1 = Employee(\"Alice\", \"Manager\")\n",
    "    emp2 = Employee(\"Bob\", \"Developer\")\n",
    "    \n",
    "    emp1.display_info()\n",
    "    emp2.display_info()\n",
    "    \n",
    "    Employee.display_count()\n",
    "    \n",
    "    del emp1  # Trigger destructor\n",
    "    Employee.display_count()\n"
   ]
  },
  {
   "cell_type": "code",
   "execution_count": 14,
   "id": "a9ba584a",
   "metadata": {},
   "outputs": [
    {
     "name": "stdout",
     "output_type": "stream",
     "text": [
      "Creating a new Singleton instance.\n",
      "Initializing Singleton instance.\n",
      "Singleton value: First\n",
      "Using existing Singleton instance.\n",
      "Initializing Singleton instance.\n",
      "Singleton value: Second\n",
      "Are s1 and s2 the same instance? True\n"
     ]
    }
   ],
   "source": [
    "# Code demonstating Singleton pattern\n",
    "class SingletonDemo:\n",
    "    _instance = None  # Static variable to hold the single instance\n",
    "\n",
    "    def __new__(cls, *args, **kwargs):\n",
    "        if cls._instance is None:\n",
    "            # If no instance exists, create one\n",
    "            cls._instance = super(SingletonDemo, cls).__new__(cls)\n",
    "            print(\"Creating a new Singleton instance.\")\n",
    "        else:\n",
    "            print(\"Using existing Singleton instance.\")\n",
    "        return cls._instance\n",
    "\n",
    "    def __init__(self, value):\n",
    "        # This could be called multiple times, but __new__ ensures the instance is the same\n",
    "        print(\"Initializing Singleton instance.\")\n",
    "        self.value = value\n",
    "\n",
    "    def display(self):\n",
    "        print(f\"Singleton value: {self.value}\")\n",
    "\n",
    "\n",
    "# Example usage\n",
    "if __name__ == \"__main__\":\n",
    "    s1 = SingletonDemo(\"First\")\n",
    "    s1.display()\n",
    "\n",
    "    s2 = SingletonDemo(\"Second\")\n",
    "    s2.display()\n",
    "\n",
    "    print(\"Are s1 and s2 the same instance?\", s1 is s2)\n"
   ]
  }
 ],
 "metadata": {
  "language_info": {
   "name": "python"
  }
 },
 "nbformat": 4,
 "nbformat_minor": 5
}
