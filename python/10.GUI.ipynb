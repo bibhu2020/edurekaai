{
 "cells": [
  {
   "cell_type": "markdown",
   "id": "79397e55",
   "metadata": {},
   "source": [
    "### Building GUI Apps (using ipywidget and tkinter)\n",
    "ipywidget - used to build gui on ipynb notebooks\n",
    "tkinter"
   ]
  },
  {
   "cell_type": "code",
   "execution_count": null,
   "id": "2955169c",
   "metadata": {},
   "outputs": [],
   "source": [
    "! pip install ipywidgets "
   ]
  },
  {
   "cell_type": "code",
   "execution_count": null,
   "id": "1a43ad55",
   "metadata": {},
   "outputs": [],
   "source": [
    "import ipywidgets as widgets\n",
    "from ipywidgets import interact, interactive, fixed, interact_manual\n",
    "from IPython.display import display "
   ]
  },
  {
   "cell_type": "code",
   "execution_count": null,
   "id": "5ab5cda6",
   "metadata": {},
   "outputs": [],
   "source": [
    "# Slidging BAR\n",
    "txt = widgets.Text(description='Name: ')\n",
    "slider1 = widgets.IntSlider(min=0, max=100, description='Class Rating: ')\n",
    "slider2 = widgets.IntSlider(min=0, max=100, description='Instructor Rating: ')\n",
    "\n",
    "display(txt, slider1, slider2)  "
   ]
  },
  {
   "cell_type": "code",
   "execution_count": null,
   "id": "fdb4ef46",
   "metadata": {},
   "outputs": [],
   "source": [
    "print('Name', txt.value)\n",
    "print('Class Rating', slider1.value)\n",
    "print('Instructor Rating', slider2.value)"
   ]
  },
  {
   "cell_type": "code",
   "execution_count": null,
   "id": "5066977b",
   "metadata": {},
   "outputs": [],
   "source": [
    "txt = widgets.Text(description='Overall Rating: ')\n",
    "slider1 = widgets.IntSlider(value=10, description='Instructor Rating: ')\n",
    "\n",
    "\n",
    "associate_link = widgets.jslink((txt, 'value'), (slider1, 'value'))\n",
    "\n",
    "display(txt, slider1) "
   ]
  },
  {
   "cell_type": "code",
   "execution_count": 17,
   "id": "9a3e6de3",
   "metadata": {},
   "outputs": [
    {
     "data": {
      "application/vnd.jupyter.widget-view+json": {
       "model_id": "ad9027c4c48e42b197f4afc85ca11735",
       "version_major": 2,
       "version_minor": 0
      },
      "text/plain": [
       "HBox(children=(VBox(children=(IntSlider(value=4, description='A:', max=50, step=5),)), Output()))"
      ]
     },
     "execution_count": 17,
     "metadata": {},
     "output_type": "execute_result"
    }
   ],
   "source": [
    "# Interactive slider with function output\n",
    "a_intslider = widgets.IntSlider(\n",
    "    value=4,\n",
    "    min=0,\n",
    "    max=50,\n",
    "    step=5,\n",
    "    description='A:',\n",
    "    disabled=False,\n",
    "    continuous_update=True,\n",
    "    orientation='horizontal',\n",
    "    readout=True,\n",
    "    readout_format='d' # d -int, f - float\n",
    "    )\n",
    "\n",
    "def f(a):\n",
    "    print('Given Rating:', a)\n",
    "\n",
    "out = widgets.interactive_output(f, {'a': a_intslider})\n",
    "\n",
    "# display(a_intslider, out)\n",
    "\n",
    "widgets.HBox([widgets.VBox([a_intslider]), out])"
   ]
  },
  {
   "cell_type": "code",
   "execution_count": 20,
   "id": "e313d24e",
   "metadata": {},
   "outputs": [
    {
     "data": {
      "application/vnd.jupyter.widget-view+json": {
       "model_id": "2239ad003a984075b3c4a87238d72ae0",
       "version_major": 2,
       "version_minor": 0
      },
      "text/plain": [
       "IntProgress(value=0, bar_style='warning', description='Loading...', style=ProgressStyle(description_width='ini…"
      ]
     },
     "metadata": {},
     "output_type": "display_data"
    }
   ],
   "source": [
    "# Progress Bar\n",
    "import time\n",
    "\n",
    "pg = widgets.IntProgress(description='Loading...', \n",
    "                         value=0, \n",
    "                         min=0, \n",
    "                         max=100, \n",
    "                         orientation='horizontal', \n",
    "                         bar_style='warning', \n",
    "                         style={'description_width': 'initial'})  \n",
    "display(pg)\n",
    "\n",
    "for i in range(100):\n",
    "    time.sleep(0.1)  # Simulate some work being done\n",
    "    pg.value = i + 1  # Update the progress bar value\n"
   ]
  },
  {
   "cell_type": "code",
   "execution_count": null,
   "id": "215ddca0",
   "metadata": {},
   "outputs": [
    {
     "data": {
      "application/vnd.jupyter.widget-view+json": {
       "model_id": "2a27114072be447396f9634c3feb6e9e",
       "version_major": 2,
       "version_minor": 0
      },
      "text/plain": [
       "VBox(children=(HBox(children=(Button(description='1', style=ButtonStyle()), Button(description='2', style=Butt…"
      ]
     },
     "metadata": {},
     "output_type": "display_data"
    },
    {
     "data": {
      "application/vnd.jupyter.widget-view+json": {
       "model_id": "882245e3c82949e2a0aa0f7f3acd34fc",
       "version_major": 2,
       "version_minor": 0
      },
      "text/plain": [
       "Text(value='', description='Result:')"
      ]
     },
     "metadata": {},
     "output_type": "display_data"
    }
   ],
   "source": [
    "# Building Calculator\n",
    "\n",
    "import ipywidgets as widgets\n",
    "from ipywidgets import interact, interactive, fixed, interact_manual\n",
    "from IPython.display import display \n",
    "import numpy as np\n",
    "\n",
    "words = ['1', '2', '3', '4', '5', '6', '7', '8', '9', '+', '-', '*']\n",
    "\n",
    "items = [widgets.Button(description=word) for word in words]    \n",
    "row1 = widgets.HBox(items[0:3])\n",
    "row2 = widgets.HBox(items[3:6])\n",
    "row3 = widgets.HBox(items[6:9]) \n",
    "row4 = widgets.HBox(items[9:12])\n",
    "layout1 = widgets.VBox([row1, row2, row3, row4])\n",
    "layout2 = widgets.Text(value='', description='Result:', disabled=False)\n",
    "display(layout1, layout2)\n",
    "\n",
    "nums = [] \n",
    "def on_button_click(b):\n",
    "    global nums\n",
    "    if b.description in ['+', '-', '*']:\n",
    "        nums.append(b.description)\n",
    "    else:\n",
    "        nums.append(int(b.description))\n",
    "    \n",
    "    layout2.value = str(nums)\n",
    "    \n",
    "    if len(nums) == 3:\n",
    "        result = eval(' '.join(map(str, nums)))\n",
    "        layout2.value = str(result)\n",
    "        print('Result:', result)\n",
    "        nums = []  # Reset for next calculation\n",
    "\n",
    "\n",
    "for item in items:\n",
    "    item.on_click(on_button_click)\n",
    "\n",
    "\n",
    "\n",
    "\n"
   ]
  },
  {
   "cell_type": "code",
   "execution_count": 31,
   "id": "9ec759e9",
   "metadata": {},
   "outputs": [
    {
     "data": {
      "application/vnd.jupyter.widget-view+json": {
       "model_id": "b58b3d4178c440d5a7c644838a20a05b",
       "version_major": 2,
       "version_minor": 0
      },
      "text/plain": [
       "VBox(children=(ToggleButton(value=False, button_style='info', description='Click Me', icon='check', tooltip='C…"
      ]
     },
     "metadata": {},
     "output_type": "display_data"
    }
   ],
   "source": [
    "# Toggle Button\n",
    "\n",
    "btn1 = widgets.ToggleButton(\n",
    "    value=False,\n",
    "    description='Click Me',\n",
    "    disabled=False,\n",
    "    button_style='info',  # 'success', 'info', 'warning', 'danger' or ''\n",
    "    tooltip='Click to toggle',\n",
    "    icon='check'\n",
    ")\n",
    "\n",
    "layout1 = widgets.VBox([btn1])\n",
    "\n",
    "display(layout1)"
   ]
  },
  {
   "cell_type": "code",
   "execution_count": 33,
   "id": "0f172ac8",
   "metadata": {},
   "outputs": [
    {
     "data": {
      "application/vnd.jupyter.widget-view+json": {
       "model_id": "4e3a0cf01ca0407faec7ba35d24409ac",
       "version_major": 2,
       "version_minor": 0
      },
      "text/plain": [
       "VBox(children=(Checkbox(value=False, description='Check Me'),))"
      ]
     },
     "metadata": {},
     "output_type": "display_data"
    }
   ],
   "source": [
    "chk1 = widgets.Checkbox(  \n",
    "    value=False,\n",
    "    description='Check Me',\n",
    "    disabled=False\n",
    ")\n",
    "layout2 = widgets.VBox([chk1])\n",
    "display(layout2)"
   ]
  },
  {
   "cell_type": "code",
   "execution_count": 34,
   "id": "34e38b2b",
   "metadata": {},
   "outputs": [
    {
     "data": {
      "application/vnd.jupyter.widget-view+json": {
       "model_id": "75529cb0732a41b889c75c5aab93eeea",
       "version_major": 2,
       "version_minor": 0
      },
      "text/plain": [
       "VBox(children=(RadioButtons(description='Choose:', options=('Option 1', 'Option 2', 'Option 3'), value='Option…"
      ]
     },
     "metadata": {},
     "output_type": "display_data"
    }
   ],
   "source": [
    "radio1 = widgets.RadioButtons(  \n",
    "    options=['Option 1', 'Option 2', 'Option 3'],\n",
    "    description='Choose:',\n",
    "    disabled=False\n",
    ")\n",
    "layout3 = widgets.VBox([radio1])\n",
    "display(layout3)"
   ]
  },
  {
   "cell_type": "code",
   "execution_count": 36,
   "id": "72b4a2e2",
   "metadata": {},
   "outputs": [
    {
     "data": {
      "application/vnd.jupyter.widget-view+json": {
       "model_id": "c5d756d1ef3f4029ad498b8611645635",
       "version_major": 2,
       "version_minor": 0
      },
      "text/plain": [
       "VBox(children=(Dropdown(description='Select:', options=('Option A', 'Option B', 'Option C'), value='Option A')…"
      ]
     },
     "metadata": {},
     "output_type": "display_data"
    }
   ],
   "source": [
    "dropdown1 = widgets.Dropdown(   \n",
    "    options=['Option A', 'Option B', 'Option C'],\n",
    "    value='Option A',\n",
    "    description='Select:',\n",
    "    disabled=False\n",
    ")   \n",
    "layout4 = widgets.VBox([dropdown1])\n",
    "display(layout4)"
   ]
  },
  {
   "cell_type": "code",
   "execution_count": 37,
   "id": "5a3b4601",
   "metadata": {},
   "outputs": [
    {
     "data": {
      "application/vnd.jupyter.widget-view+json": {
       "model_id": "82ff1888b7da411393dc6dc74b8c21e8",
       "version_major": 2,
       "version_minor": 0
      },
      "text/plain": [
       "DatePicker(value=None, description='Pick a Date', step=1)"
      ]
     },
     "metadata": {},
     "output_type": "display_data"
    },
    {
     "data": {
      "application/vnd.jupyter.widget-view+json": {
       "model_id": "426ccef3e0bd411c843189cdf18b9df1",
       "version_major": 2,
       "version_minor": 0
      },
      "text/plain": [
       "FileUpload(value=(), accept='.txt', description='Upload')"
      ]
     },
     "metadata": {},
     "output_type": "display_data"
    }
   ],
   "source": [
    "# Date Picker\n",
    "date_picker = widgets.DatePicker(\n",
    "    description='Pick a Date',\n",
    "    disabled=False\n",
    ")\n",
    "display(date_picker)\n",
    "# File Upload\n",
    "file_upload = widgets.FileUpload(\n",
    "    accept='.txt',  # Accept only text files\n",
    "    multiple=False  # Allow only one file to be uploaded\n",
    ")   \n",
    "display(file_upload)    \n"
   ]
  }
 ],
 "metadata": {
  "kernelspec": {
   "display_name": ".langchain",
   "language": "python",
   "name": "python3"
  },
  "language_info": {
   "codemirror_mode": {
    "name": "ipython",
    "version": 3
   },
   "file_extension": ".py",
   "mimetype": "text/x-python",
   "name": "python",
   "nbconvert_exporter": "python",
   "pygments_lexer": "ipython3",
   "version": "3.11.4"
  }
 },
 "nbformat": 4,
 "nbformat_minor": 5
}
