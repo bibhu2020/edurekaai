{
 "cells": [
  {
   "cell_type": "markdown",
   "id": "7679e771",
   "metadata": {},
   "source": [
    "## Pandas\n",
    "It's data science library - deals hetrogeneous data - mix of text, numbers, etc...\n",
    "\n",
    "Panda has 3 different data structures.\n",
    "- Series  - 1 dimensional \n",
    "- Data Frames - 2 dimensional (like excel sheet data which is 2 dimensional - rows x cols)\n",
    "- Panel Data - Deprecated (Panda name had originates from Panel Data)\n",
    "- Multi-Indexing - 3 dimensional\n",
    "\n",
    "**Note**: Panda uses numpy under the hood.\n",
    "\n",
    "https://pandas.pydata.org"
   ]
  },
  {
   "cell_type": "code",
   "execution_count": null,
   "id": "474ba438",
   "metadata": {},
   "outputs": [],
   "source": [
    "# Install pandas\n",
    "! pip install pandas"
   ]
  },
  {
   "cell_type": "code",
   "execution_count": null,
   "id": "58ee0cbb",
   "metadata": {},
   "outputs": [],
   "source": [
    "import pandas as pd\n",
    "import numpy as np"
   ]
  },
  {
   "cell_type": "code",
   "execution_count": null,
   "id": "3432dafc",
   "metadata": {},
   "outputs": [],
   "source": [
    "# Create series data (You can perform array operations on it)\n",
    "s1 = pd.Series([1, 2, 2.3, 45, 5])\n",
    "print(s1)\n",
    "print(s1[0:2])\n",
    "print(type(s1))\n",
    "\n",
    "# first column represents index"
   ]
  },
  {
   "cell_type": "code",
   "execution_count": null,
   "id": "7cd7a7e6",
   "metadata": {},
   "outputs": [],
   "source": [
    "# Creating Series\n",
    "data = {1:10, 2: 20, 3: 50, 4: 55}\n",
    "s2 = pd.Series(data)\n",
    "print(s2)\n",
    "\n",
    "s3 = pd.Series(np.arange(10), index=np.arange(10, 110, 10))\n",
    "print(s3)\n"
   ]
  },
  {
   "cell_type": "code",
   "execution_count": null,
   "id": "733a3b94",
   "metadata": {},
   "outputs": [],
   "source": [
    "# Time-Series Data (Here, Index is DataTime)\n",
    "s4 = pd.Series(np.array(['10 F', '11 F', '20 F', '15 F', '12 F']), index=np.array(['10/10/2024 01 AM', '10/10/2024 02 AM', '10/10/2024 03 AM', '10/10/2024 04 AM', '10/10/2024 05 AM']))\n",
    "\n",
    "print(s4)\n",
    "\n",
    "#slicing the data using index\n",
    "print(s4['10/10/2024 03 AM':])\n"
   ]
  },
  {
   "cell_type": "code",
   "execution_count": null,
   "id": "920f3080",
   "metadata": {},
   "outputs": [],
   "source": [
    "# Creating Data Frame\n",
    "df1 = pd.DataFrame([['krishna', 10000, 20], ['Rahul', 12000, 32], ['Sahil', 20000, 25]])\n",
    "df1"
   ]
  },
  {
   "cell_type": "code",
   "execution_count": null,
   "id": "ea957454",
   "metadata": {},
   "outputs": [],
   "source": [
    "data = {\n",
    "    'name': ['krishna', 'rahul', 'sahil','rakesh','ramu'],\n",
    "    'salary': [10000, 12000, 20000, 40000, 25000],\n",
    "    'age': [20, 32, 25, 40, 25]\n",
    "}\n",
    "\n",
    "df2 = pd.DataFrame(data)\n",
    "df2"
   ]
  },
  {
   "cell_type": "code",
   "execution_count": null,
   "id": "db94bd8c",
   "metadata": {},
   "outputs": [],
   "source": [
    "# Create df from series\n",
    "df3 = pd.DataFrame(s4)\n",
    "df3"
   ]
  },
  {
   "cell_type": "markdown",
   "id": "42433adb",
   "metadata": {},
   "source": [
    "#### Access by Columns"
   ]
  },
  {
   "cell_type": "code",
   "execution_count": null,
   "id": "83262cf5",
   "metadata": {},
   "outputs": [],
   "source": [
    "# Access by column\n",
    "df2['salary'] =  df2['salary'] + 1000\n",
    "df2"
   ]
  },
  {
   "cell_type": "markdown",
   "id": "d21ab586",
   "metadata": {},
   "source": [
    "#### Access by Rows"
   ]
  },
  {
   "cell_type": "code",
   "execution_count": 1,
   "id": "bac45d84",
   "metadata": {},
   "outputs": [
    {
     "ename": "NameError",
     "evalue": "name 'df2' is not defined",
     "output_type": "error",
     "traceback": [
      "\u001b[31m---------------------------------------------------------------------------\u001b[39m",
      "\u001b[31mNameError\u001b[39m                                 Traceback (most recent call last)",
      "\u001b[36mCell\u001b[39m\u001b[36m \u001b[39m\u001b[32mIn[1]\u001b[39m\u001b[32m, line 5\u001b[39m\n\u001b[32m      1\u001b[39m \u001b[38;5;66;03m# Access by Rows\u001b[39;00m\n\u001b[32m      2\u001b[39m \u001b[38;5;66;03m# iloc - locate by index / integer\u001b[39;00m\n\u001b[32m      3\u001b[39m \u001b[38;5;66;03m# lock - locate by name\u001b[39;00m\n\u001b[32m----> \u001b[39m\u001b[32m5\u001b[39m \u001b[38;5;28mprint\u001b[39m(\u001b[43mdf2\u001b[49m.iloc[\u001b[32m1\u001b[39m])\n\u001b[32m      6\u001b[39m \u001b[38;5;28mprint\u001b[39m(df2.iloc[\u001b[32m1\u001b[39m][\u001b[33m'\u001b[39m\u001b[33mname\u001b[39m\u001b[33m'\u001b[39m])\n\u001b[32m      7\u001b[39m \u001b[38;5;28mprint\u001b[39m(df2.iloc[\u001b[32m1\u001b[39m,\u001b[32m0\u001b[39m])\n",
      "\u001b[31mNameError\u001b[39m: name 'df2' is not defined"
     ]
    }
   ],
   "source": [
    "# Access by Rows\n",
    "# iloc - locate by index / integer\n",
    "# lock - locate by name\n",
    "\n",
    "print(df2.iloc[1])\n",
    "print(df2.iloc[1]['name'])\n",
    "print(df2.iloc[1,0])\n",
    "print(df2.loc[1,'name']) #row 1, column=name\n",
    "df2.loc[1,'name'] = 'Renu'\n",
    "print(df2.loc[1:,'name'])\n"
   ]
  },
  {
   "cell_type": "code",
   "execution_count": null,
   "id": "17f0517a",
   "metadata": {},
   "outputs": [],
   "source": [
    "df2['net_salary'] = df2.salary - 0.5 * df2.salary\n",
    "\n",
    "df2"
   ]
  },
  {
   "cell_type": "code",
   "execution_count": null,
   "id": "3863caea",
   "metadata": {},
   "outputs": [],
   "source": [
    "df2.loc[0:, 'net_salary'] = df2.salary - 0.10 * df2.salary\n",
    "df2"
   ]
  },
  {
   "cell_type": "code",
   "execution_count": null,
   "id": "ff928d05",
   "metadata": {},
   "outputs": [],
   "source": [
    "# printing a series from a data frame\n",
    "df2.name"
   ]
  },
  {
   "cell_type": "code",
   "execution_count": null,
   "id": "64615f5f",
   "metadata": {},
   "outputs": [
    {
     "name": "stdout",
     "output_type": "stream",
     "text": [
      "Filter the records with age=25\n",
      "Filter the records with age less than 35 and salary less than 20000\n"
     ]
    },
    {
     "data": {
      "text/html": [
       "<div>\n",
       "<style scoped>\n",
       "    .dataframe tbody tr th:only-of-type {\n",
       "        vertical-align: middle;\n",
       "    }\n",
       "\n",
       "    .dataframe tbody tr th {\n",
       "        vertical-align: top;\n",
       "    }\n",
       "\n",
       "    .dataframe thead th {\n",
       "        text-align: right;\n",
       "    }\n",
       "</style>\n",
       "<table border=\"1\" class=\"dataframe\">\n",
       "  <thead>\n",
       "    <tr style=\"text-align: right;\">\n",
       "      <th></th>\n",
       "      <th>name</th>\n",
       "      <th>salary</th>\n",
       "      <th>age</th>\n",
       "      <th>net_salary</th>\n",
       "    </tr>\n",
       "  </thead>\n",
       "  <tbody>\n",
       "    <tr>\n",
       "      <th>0</th>\n",
       "      <td>krishna</td>\n",
       "      <td>10000</td>\n",
       "      <td>20</td>\n",
       "      <td>9000.0</td>\n",
       "    </tr>\n",
       "    <tr>\n",
       "      <th>1</th>\n",
       "      <td>rahul</td>\n",
       "      <td>12000</td>\n",
       "      <td>32</td>\n",
       "      <td>10800.0</td>\n",
       "    </tr>\n",
       "  </tbody>\n",
       "</table>\n",
       "</div>"
      ],
      "text/plain": [
       "      name  salary  age  net_salary\n",
       "0  krishna   10000   20      9000.0\n",
       "1    rahul   12000   32     10800.0"
      ]
     },
     "execution_count": 59,
     "metadata": {},
     "output_type": "execute_result"
    }
   ],
   "source": [
    "## Filtering on Data Frame\n",
    "\n",
    "print('Filter the records with age=25')\n",
    "df2[df2.age == 25]"
   ]
  },
  {
   "cell_type": "code",
   "execution_count": null,
   "id": "bdf0421f",
   "metadata": {},
   "outputs": [
    {
     "name": "stdout",
     "output_type": "stream",
     "text": [
      "Filter the records with age less than 35 and salary less than 20000\n"
     ]
    },
    {
     "data": {
      "text/html": [
       "<div>\n",
       "<style scoped>\n",
       "    .dataframe tbody tr th:only-of-type {\n",
       "        vertical-align: middle;\n",
       "    }\n",
       "\n",
       "    .dataframe tbody tr th {\n",
       "        vertical-align: top;\n",
       "    }\n",
       "\n",
       "    .dataframe thead th {\n",
       "        text-align: right;\n",
       "    }\n",
       "</style>\n",
       "<table border=\"1\" class=\"dataframe\">\n",
       "  <thead>\n",
       "    <tr style=\"text-align: right;\">\n",
       "      <th></th>\n",
       "      <th>name</th>\n",
       "      <th>salary</th>\n",
       "      <th>age</th>\n",
       "      <th>net_salary</th>\n",
       "    </tr>\n",
       "  </thead>\n",
       "  <tbody>\n",
       "    <tr>\n",
       "      <th>0</th>\n",
       "      <td>krishna</td>\n",
       "      <td>10000</td>\n",
       "      <td>20</td>\n",
       "      <td>9000.0</td>\n",
       "    </tr>\n",
       "    <tr>\n",
       "      <th>1</th>\n",
       "      <td>rahul</td>\n",
       "      <td>12000</td>\n",
       "      <td>32</td>\n",
       "      <td>10800.0</td>\n",
       "    </tr>\n",
       "  </tbody>\n",
       "</table>\n",
       "</div>"
      ],
      "text/plain": [
       "      name  salary  age  net_salary\n",
       "0  krishna   10000   20      9000.0\n",
       "1    rahul   12000   32     10800.0"
      ]
     },
     "execution_count": 60,
     "metadata": {},
     "output_type": "execute_result"
    }
   ],
   "source": [
    "print('Filter the records with age less than 35 and salary less than 20000')\n",
    "df2[(df2.age <= 35) & (df2.salary < 20000)]"
   ]
  },
  {
   "cell_type": "code",
   "execution_count": null,
   "id": "eddcab51",
   "metadata": {},
   "outputs": [
    {
     "name": "stdout",
     "output_type": "stream",
     "text": [
      "Filter the records with age less than 35 and salary less than 20000\n"
     ]
    },
    {
     "data": {
      "text/html": [
       "<div>\n",
       "<style scoped>\n",
       "    .dataframe tbody tr th:only-of-type {\n",
       "        vertical-align: middle;\n",
       "    }\n",
       "\n",
       "    .dataframe tbody tr th {\n",
       "        vertical-align: top;\n",
       "    }\n",
       "\n",
       "    .dataframe thead th {\n",
       "        text-align: right;\n",
       "    }\n",
       "</style>\n",
       "<table border=\"1\" class=\"dataframe\">\n",
       "  <thead>\n",
       "    <tr style=\"text-align: right;\">\n",
       "      <th></th>\n",
       "      <th>name</th>\n",
       "      <th>salary</th>\n",
       "      <th>age</th>\n",
       "      <th>net_salary</th>\n",
       "    </tr>\n",
       "  </thead>\n",
       "  <tbody>\n",
       "    <tr>\n",
       "      <th>0</th>\n",
       "      <td>krishna</td>\n",
       "      <td>10000</td>\n",
       "      <td>20</td>\n",
       "      <td>9000.0</td>\n",
       "    </tr>\n",
       "    <tr>\n",
       "      <th>1</th>\n",
       "      <td>rahul</td>\n",
       "      <td>12000</td>\n",
       "      <td>32</td>\n",
       "      <td>10800.0</td>\n",
       "    </tr>\n",
       "    <tr>\n",
       "      <th>2</th>\n",
       "      <td>sahil</td>\n",
       "      <td>20000</td>\n",
       "      <td>25</td>\n",
       "      <td>18000.0</td>\n",
       "    </tr>\n",
       "    <tr>\n",
       "      <th>4</th>\n",
       "      <td>ramu</td>\n",
       "      <td>25000</td>\n",
       "      <td>25</td>\n",
       "      <td>22500.0</td>\n",
       "    </tr>\n",
       "  </tbody>\n",
       "</table>\n",
       "</div>"
      ],
      "text/plain": [
       "      name  salary  age  net_salary\n",
       "0  krishna   10000   20      9000.0\n",
       "1    rahul   12000   32     10800.0\n",
       "2    sahil   20000   25     18000.0\n",
       "4     ramu   25000   25     22500.0"
      ]
     },
     "execution_count": 62,
     "metadata": {},
     "output_type": "execute_result"
    }
   ],
   "source": [
    "print('Filter the records with age less than 35 and salary less than 20000')\n",
    "cond1 = df2.age <= 35\n",
    "cond2 = df2.salary < 20000\n",
    "df2[cond1 & cond2]\n",
    "\n",
    "df2[cond1 | cond2]"
   ]
  },
  {
   "cell_type": "code",
   "execution_count": null,
   "id": "d270eed3",
   "metadata": {},
   "outputs": [
    {
     "name": "stdout",
     "output_type": "stream",
     "text": [
      "Filter the records with age!=25\n"
     ]
    },
    {
     "data": {
      "text/html": [
       "<div>\n",
       "<style scoped>\n",
       "    .dataframe tbody tr th:only-of-type {\n",
       "        vertical-align: middle;\n",
       "    }\n",
       "\n",
       "    .dataframe tbody tr th {\n",
       "        vertical-align: top;\n",
       "    }\n",
       "\n",
       "    .dataframe thead th {\n",
       "        text-align: right;\n",
       "    }\n",
       "</style>\n",
       "<table border=\"1\" class=\"dataframe\">\n",
       "  <thead>\n",
       "    <tr style=\"text-align: right;\">\n",
       "      <th></th>\n",
       "      <th>name</th>\n",
       "      <th>salary</th>\n",
       "      <th>age</th>\n",
       "      <th>net_salary</th>\n",
       "    </tr>\n",
       "  </thead>\n",
       "  <tbody>\n",
       "    <tr>\n",
       "      <th>0</th>\n",
       "      <td>krishna</td>\n",
       "      <td>10000</td>\n",
       "      <td>20</td>\n",
       "      <td>9000.0</td>\n",
       "    </tr>\n",
       "    <tr>\n",
       "      <th>1</th>\n",
       "      <td>rahul</td>\n",
       "      <td>12000</td>\n",
       "      <td>32</td>\n",
       "      <td>10800.0</td>\n",
       "    </tr>\n",
       "    <tr>\n",
       "      <th>3</th>\n",
       "      <td>rakesh</td>\n",
       "      <td>40000</td>\n",
       "      <td>40</td>\n",
       "      <td>36000.0</td>\n",
       "    </tr>\n",
       "  </tbody>\n",
       "</table>\n",
       "</div>"
      ],
      "text/plain": [
       "      name  salary  age  net_salary\n",
       "0  krishna   10000   20      9000.0\n",
       "1    rahul   12000   32     10800.0\n",
       "3   rakesh   40000   40     36000.0"
      ]
     },
     "execution_count": 63,
     "metadata": {},
     "output_type": "execute_result"
    }
   ],
   "source": [
    "print('Filter the records with age!=25')\n",
    "df2[~(df2.age == 25)]"
   ]
  }
 ],
 "metadata": {
  "kernelspec": {
   "display_name": ".langchain",
   "language": "python",
   "name": "python3"
  },
  "language_info": {
   "codemirror_mode": {
    "name": "ipython",
    "version": 3
   },
   "file_extension": ".py",
   "mimetype": "text/x-python",
   "name": "python",
   "nbconvert_exporter": "python",
   "pygments_lexer": "ipython3",
   "version": "3.11.4"
  }
 },
 "nbformat": 4,
 "nbformat_minor": 5
}
